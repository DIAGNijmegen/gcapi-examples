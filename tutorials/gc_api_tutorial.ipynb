{
 "cells": [
  {
   "cell_type": "markdown",
   "metadata": {},
   "source": [
    "# Grand Challenge API Client: interact with grand-challenge.org via python\n"
   ]
  },
  {
   "cell_type": "markdown",
   "metadata": {},
   "source": [
    "<img src=\"pipeline.png\" />"
   ]
  },
  {
   "cell_type": "markdown",
   "metadata": {},
   "source": [
    "GC-API provides a handy functionality to interract with grand-challenge.org via python.\n",
    "\n",
    "Its purpose and broader functionality is discussed in details in [this](https://grand-challenge.org/blogs/grand-challenge-api-client/) blogpost. In order to use gc-api you will also need to obtain a personal API token. The blog above describe what it is and where to find it. \n"
   ]
  },
  {
   "cell_type": "markdown",
   "metadata": {},
   "source": [
    "Lets start from installing the GC-API package with pip:"
   ]
  },
  {
   "cell_type": "code",
   "execution_count": null,
   "metadata": {},
   "outputs": [],
   "source": [
    "pip install gcapi"
   ]
  },
  {
   "cell_type": "markdown",
   "metadata": {},
   "source": [
    "In this tutorial we will in details go over following steps:\n",
    "\n",
    "1. [Uploading files to a Reader study on grand-challenge.org](#section_1)\n",
    "2. [Downloading files from an Archive on grand-challenge.org](#section_2)\n",
    "3. [Uploading files to an Algorithm on grand-challenge.org for subsequent inference and downloading the results](#section_3)\n"
   ]
  },
  {
   "cell_type": "markdown",
   "metadata": {},
   "source": [
    "Lets start from importing nessecary packages"
   ]
  },
  {
   "cell_type": "code",
   "execution_count": 9,
   "metadata": {
    "pycharm": {
     "name": "#%%\n"
    }
   },
   "outputs": [],
   "source": [
    "import os\n",
    "from gcapi import Client"
   ]
  },
  {
   "cell_type": "markdown",
   "metadata": {},
   "source": [
    "In order to use gc-api you need to obtain your personal token. "
   ]
  },
  {
   "cell_type": "code",
   "execution_count": 13,
   "metadata": {},
   "outputs": [],
   "source": [
    "token='my-personal-api-token-to-grand-challange.org'"
   ]
  },
  {
   "cell_type": "markdown",
   "metadata": {},
   "source": [
    " <a id=’section_1’></a>\n",
    "## 1. Uploading files to a [Reader study](https://grand-challenge.org/reader-studies/)"
   ]
  },
  {
   "cell_type": "markdown",
   "metadata": {},
   "source": [
    "If you are working on a Reader study with grand-challenge.org, you most likely need to upload the cases to your study directory on the platform. Such operation can be easily performed via GC-API. \n",
    "\n",
    "You would probably first want to check whether you have been granted permission to create/work with a particular reader study. \n",
    "\n",
    "For this particular example, the data on your machine should be structured as follows:\n",
    "\n",
    "    |--> main_directory \n",
    "\n",
    "          |--> patient1_folder --> file_for_a_single_series \n",
    "\n",
    "          |--> patient2_folder --> file_for_a_single_series \n",
    "          \n",
    "          |--> patient3_folder --> file_for_a_single_series \n",
    "          \n",
    "                                 ...\n",
    "          \n",
    "          |--> patientN_folder --> file_for_a single_series \n",
    "\n",
    "Aditionally, you will need to know the \"slug\" of the particular reader study you will work with. \n",
    "\n",
    "For example:\n",
    "\n",
    "        If the path to your reader study on grand-challenge.org is:\n",
    "        \"https://grand-challenge.org/reader-studies/corads-score-exam/\"\n",
    "\n",
    "        The study slug would be \"corads-score-exam\"\n",
    "\n",
    "\n",
    "Lets now list the files in the upload directory to check whether they can be identified:"
   ]
  },
  {
   "cell_type": "code",
   "execution_count": 4,
   "metadata": {
    "pycharm": {
     "name": "#%% Finding cases to upload to an algorithm or reader study\n"
    }
   },
   "outputs": [
    {
     "name": "stdout",
     "output_type": "stream",
     "text": [
      "Found 0 cases for upload\n"
     ]
    }
   ],
   "source": [
    "#Specify the directory path which you want to upload from\n",
    "upload_from_dir=r'path\\to\\folder\\on\\your\\machine\\with\\data\\to\\upload\\to\\reader\\study'\n",
    "#Specify the \"slug\" of the study you want to upload your data to\n",
    "upload_reader_study_slug=\"my-reader-stydy-slug\"\n",
    "\n",
    "\n",
    "files = {}\n",
    "\n",
    "#Loop through files in the specifid directory and add thir names to the list\n",
    "for root, directories, filenames in os.walk(upload_from_dir):\n",
    "    for direc in directories:\n",
    "        temp = []\n",
    "        for file in os.listdir(os.path.join(root,direc)):\n",
    "            temp.append(os.path.join(root,direc,file))\n",
    "        files[direc] = temp\n",
    "\n",
    "print(\"Found\", len(files.keys()), \"cases for upload\")\n",
    "\n"
   ]
  },
  {
   "cell_type": "markdown",
   "metadata": {},
   "source": [
    "Uploading cases"
   ]
  },
  {
   "cell_type": "code",
   "execution_count": 6,
   "metadata": {
    "pycharm": {
     "name": "#%% uplaod files to reader study\n"
    }
   },
   "outputs": [],
   "source": [
    "sessions = []\n",
    "\n",
    "c = Client(token=token)\n",
    "\n",
    "for i, key in enumerate(files.keys(), 1):\n",
    "    temp_session = c.upload_cases(files=files[key], reader_study=upload_reader_study_slug)\n",
    "    sessions.append(temp_session)\n",
    "    print(files[key])\n",
    "    print(\"Uploaded session\", i, \"of\", len(files.keys()))\n"
   ]
  },
  {
   "cell_type": "markdown",
   "metadata": {},
   "source": [
    " <a id=’section_2’></a>\n",
    "## 2. Downloading files from an [Archive](https://grand-challenge.org/archives/) on grand-challenge.org"
   ]
  },
  {
   "cell_type": "markdown",
   "metadata": {},
   "source": [
    "In this part we will try downloading cases from grand-challenge.org archive. \n",
    "\n",
    "Aditionally, you will need to know the \"slug\" of the particular archive you will work with. \n",
    "\n",
    "For example:\n",
    "\n",
    "        If the path to your archive on grand-challenge.org is:\n",
    "        \"https://grand-challenge.org/archives/luna16/\"\n",
    "\n",
    "        The archive slug would be \"luna16\"\n",
    "\n",
    "In particular we will try to download\n",
    "chest CT scans of Covid19 patients from the \"coronacases.org\" dataset of 10 cases."
   ]
  },
  {
   "cell_type": "code",
   "execution_count": 7,
   "metadata": {
    "pycharm": {
     "name": "#%% Checking if the archive is available on GC\n"
    }
   },
   "outputs": [],
   "source": [
    "c = Client(token=token)\n",
    "\n",
    "#name of the archive arguments\n",
    "archive_slug = \"coronacases.org\"\n",
    "#save path on your machine\n",
    "output_archive_dir = 'path\\to\\where\\to\\save\\the\\data\\to\\your\\machine'\n",
    "\n",
    "archives = c(url=\"https://grand-challenge.org/api/v1/archives/\")[\"results\"]\n",
    "\n",
    "corona_archive = None\n",
    "for archive in archives:\n",
    "    if archive[\"name\"] == archive_slug:\n",
    "        corona_archive = archive\n",
    "        break\n",
    "if corona_archive is None:\n",
    "    raise Exception(\"archive not found on GC\")\n",
    "\n"
   ]
  },
  {
   "cell_type": "code",
   "execution_count": 8,
   "metadata": {
    "pycharm": {
     "name": "#%% Downloading the images from the archive \n"
    }
   },
   "outputs": [
    {
     "name": "stdout",
     "output_type": "stream",
     "text": [
      "Downloading 10 images..\n",
      "1\n",
      "2\n",
      "3\n",
      "4\n",
      "5\n",
      "6\n",
      "7\n",
      "8\n",
      "9\n",
      "10\n"
     ]
    }
   ],
   "source": [
    "# Create image mapping, from image URL to original image mha name\n",
    "images_mapping = {}\n",
    "for image_url in corona_archive[\"images\"]:\n",
    "    # get name of mha image from GC API\n",
    "    image = c(url=image_url)\n",
    "    images_mapping[image[\"files\"][0][\"file\"]] = image[\"name\"]\n",
    "\n",
    "print(\"Downloading {0} images..\".format(len(images_mapping)))\n",
    "\n",
    "counter = 0\n",
    "for file1, name1 in images_mapping.items():\n",
    "    response = c.get(file1)\n",
    "    response.raise_for_status()\n",
    "    with open(os.path.join(output_dir, name1), 'wb') as f1:\n",
    "        f1.write(response.content)\n",
    "    counter += 1\n",
    "    print(counter)\n",
    "\n"
   ]
  },
  {
   "cell_type": "markdown",
   "metadata": {},
   "source": [
    " <a id=’section_3’></a>\n",
    "## 3. Uploading files to an [Algorithm](https://grand-challenge.org/algorithms/) on grand-challenge.org for subsequent inference and downloading the results"
   ]
  },
  {
   "cell_type": "markdown",
   "metadata": {},
   "source": [
    "In this section we will take a look at how to upload study cases to an Algorithm available on grand-challenge.org and obtain its prediction. \n",
    "\n",
    "You will, most likely, first need to request an access to use the desired Algorithm. This can be done by navigating to an algorith directory in grand-challenge.org website and presing \"Request access\" button.\n",
    "\n",
    "In this section, we will try to apply a [Pulmonary lobe segmentation algorithm]() from grand-challenge.org to the 10 cases from Covid19 patients downloaded in [part 2](#section_2).\n",
    "\n",
    "Aditionally, you will need to know the \"slug\" of the particular algorithm you will work with. \n",
    "\n",
    "For example:\n",
    "\n",
    "        If the path to your algorithm on grand-challenge.org is:\n",
    "        \"https://grand-challenge.org/algorithms/fluid-segmentation-in-retinal-oct/\"\n",
    "\n",
    "        The algorithm slug would be \"fluid-segmentation-in-retinal-oct\"\n",
    "\n"
   ]
  },
  {
   "cell_type": "markdown",
   "metadata": {},
   "source": [
    "Uploading images to an algorithm works in the same manner as when you would upload images to a reader study. However, downloading the results that the algorithm creates is more challenging. The uploaded image gets an universally unique identifier (UUID) which is different from the UUID that gets assigned to the results of the algorithm. For this reason a script was created that uploads the images, tracks the status of the algorithm and directly downloads the results once it is finished. This file can be found in this same repository. Example code on how to use this is shown below.\n"
   ]
  },
  {
   "cell_type": "code",
   "execution_count": null,
   "metadata": {},
   "outputs": [],
   "source": [
    "from GC_algorithm_API import GrandChallengeAlgorithm\n",
    "\n",
    "\n",
    "client = GrandChallengeAlgorithm(api_token=token, algorithm=\"pulmonary-lobe-segmentation\")\n",
    "client.run(input_files=[r'path\\to\\input\\cases\\on\\your\\local\\machine'], output_file=r'path\\to\\output\\directory\\on\\your\\local\\machine')\n",
    "\n",
    "\n"
   ]
  }
 ],
 "metadata": {
  "kernelspec": {
   "display_name": "Python 3",
   "language": "python",
   "name": "python3"
  },
  "language_info": {
   "codemirror_mode": {
    "name": "ipython",
    "version": 3
   },
   "file_extension": ".py",
   "mimetype": "text/x-python",
   "name": "python",
   "nbconvert_exporter": "python",
   "pygments_lexer": "ipython3",
   "version": "3.8.5"
  }
 },
 "nbformat": 4,
 "nbformat_minor": 1
}
